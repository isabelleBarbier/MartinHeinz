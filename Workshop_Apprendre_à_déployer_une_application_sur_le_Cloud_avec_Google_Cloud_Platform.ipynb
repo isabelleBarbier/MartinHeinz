{
  "nbformat": 4,
  "nbformat_minor": 0,
  "metadata": {
    "colab": {
      "name": "Workshop Apprendre à déployer une application sur le Cloud avec Google Cloud Platform.ipynb",
      "provenance": [],
      "collapsed_sections": [],
      "include_colab_link": true
    },
    "kernelspec": {
      "name": "python3",
      "display_name": "Python 3"
    },
    "language_info": {
      "name": "python"
    }
  },
  "cells": [
    {
      "cell_type": "markdown",
      "metadata": {
        "id": "view-in-github",
        "colab_type": "text"
      },
      "source": [
        "<a href=\"https://colab.research.google.com/github/isabelleBarbier/MartinHeinz/blob/master/Workshop_Apprendre_%C3%A0_d%C3%A9ployer_une_application_sur_le_Cloud_avec_Google_Cloud_Platform.ipynb\" target=\"_parent\"><img src=\"https://colab.research.google.com/assets/colab-badge.svg\" alt=\"Open In Colab\"/></a>"
      ]
    },
    {
      "cell_type": "markdown",
      "source": [
        "<div align=\"center\">\n",
        "  <a href=\"https://blent.ai\">\n",
        "    <img src=\"https://blent-static-media.s3.eu-west-3.amazonaws.com/images/logo/logo_blent_300x.png\" alt=\"Logo Blent.ai\" width=\"200\" />\n",
        "  </a>\n",
        "\n",
        "  <h2 align=\"center\">Apprendre à déployer une application sur le Cloud avec Google Cloud Platform</h2>\n",
        "\n",
        "  <p align=\"center\">\n",
        "    Webinar - <a href=\"https://blent.ai\">Blent.ai</a>\n",
        "    <br />\n",
        "</div>\n",
        "\n",
        "# Liens utiles\n",
        "\n",
        "- [Options de configuration de la commande `jupyter`](https://jupyter-notebook.readthedocs.io/en/stable/config.html)\n",
        "- [Commandes essentielles `systemd`](https://www.linuxtricks.fr/wiki/systemd-les-commandes-essentielles)\n",
        "- [Créer une machine virtuelle sur GCP](https://www.cloudskillsboost.google/focuses/3563?locale=fr&parent=catalog)"
      ],
      "metadata": {
        "id": "xh6l38_mxDsR"
      }
    },
    {
      "cell_type": "markdown",
      "source": [
        "# Installation des dépendances"
      ],
      "metadata": {
        "id": "EPxJG_j_yuj4"
      }
    },
    {
      "cell_type": "code",
      "source": [
        "sudo apt update\n",
        "sudo apt install python3-pip -y\n",
        "sudo ln -s /usr/bin/python3 /usr/bin/python\n",
        "sudo ln -s /usr/bin/pip3 /usr/bin/pip"
      ],
      "metadata": {
        "id": "wXQHv3Kwyz3f"
      },
      "execution_count": null,
      "outputs": []
    },
    {
      "cell_type": "markdown",
      "source": [
        "Maintenant que nous sommes dans l'environnement virtuel, nous pouvons y installer Jupyter et JupyterLab."
      ],
      "metadata": {
        "id": "XZRvhzX0zPev"
      }
    },
    {
      "cell_type": "code",
      "source": [
        "pip install --upgrade pip\n",
        "pip install jupyter jupyterlab"
      ],
      "metadata": {
        "id": "d1u13l-nzT86"
      },
      "execution_count": null,
      "outputs": []
    },
    {
      "cell_type": "markdown",
      "source": [
        "Essayons maintenant de lancer JupyterLab."
      ],
      "metadata": {
        "id": "_e8xO88qzdr1"
      }
    },
    {
      "cell_type": "code",
      "source": [
        "# Génération d'un mot de passe aléatoire\n",
        "from IPython.lib.security import passwd\n",
        "print(passwd('monmotdepasse'))"
      ],
      "metadata": {
        "colab": {
          "base_uri": "https://localhost:8080/"
        },
        "id": "D6JSmoMV0eRS",
        "outputId": "409f33c1-3c9b-44f1-a0eb-eb3ceccced56"
      },
      "execution_count": null,
      "outputs": [
        {
          "output_type": "stream",
          "name": "stdout",
          "text": [
            "sha1:5a68668ba0cd:b6105fefb3d0482f51d6fa0c35955557f833a89a\n"
          ]
        }
      ]
    },
    {
      "cell_type": "markdown",
      "source": [
        "Il faut **éviter de lancer sur le port 80** car cela nécessite les droits administrateurs ! On va donc garder le port 8888."
      ],
      "metadata": {
        "id": "4cjO-2031Ta4"
      }
    },
    {
      "cell_type": "code",
      "source": [
        "export PATH=$PATH:/home/admin/.local/bin\n",
        "jupyter-lab \\\n",
        "  --no-browser \\\n",
        "  --NotebookApp.ip='0.0.0.0' \\\n",
        "  --NotebookApp.port=8888 \\\n",
        "  --NotebookApp.password='sha1:5a68668ba0cd:b6105fefb3d0482f51d6fa0c35955557f833a89a'"
      ],
      "metadata": {
        "id": "M8fAg-yxzfoE"
      },
      "execution_count": null,
      "outputs": []
    },
    {
      "cell_type": "markdown",
      "source": [
        "# Création du service Jupyter"
      ],
      "metadata": {
        "id": "ZBXNa6LqywOg"
      }
    },
    {
      "cell_type": "markdown",
      "source": [
        "Créons un fichier dans `/etc/systemd/system/jupyter.service` (en `sudo` !)."
      ],
      "metadata": {
        "id": "9ePOlj8tyRyN"
      }
    },
    {
      "cell_type": "code",
      "source": [
        "[Unit]\n",
        "Description=Jupyter Notebook\n",
        "\n",
        "[Service]\n",
        "Type=simple\n",
        "PIDFile=/run/jupyter.pid\n",
        "ExecStart=/home/admin/.local/bin/jupyter-lab --NotebookApp.notebook_dir='/home/admin' --no-browser --NotebookApp.ip='0.0.0.0' --NotebookApp.port=8888 --NotebookApp.password='sha1:5a68668ba0cd:b6105fefb3d0482f51d6fa0c35955557f833a89a'\n",
        "User=admin\n",
        "Group=admin\n",
        "Restart=always\n",
        "RestartSec=10\n",
        "\n",
        "[Install]\n",
        "WantedBy=multi-user.target"
      ],
      "metadata": {
        "id": "ZBQHk7gDxOUz"
      },
      "execution_count": null,
      "outputs": []
    },
    {
      "cell_type": "code",
      "source": [
        "sudo systemctl daemon-reload\n",
        "sudo systemctl start jupyter\n",
        "sudo systemctl enable jupyter"
      ],
      "metadata": {
        "id": "qrmT98NTx4YQ"
      },
      "execution_count": null,
      "outputs": []
    }
  ]
}